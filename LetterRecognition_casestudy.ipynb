{
 "cells": [
  {
   "cell_type": "code",
   "execution_count": 1,
   "id": "6d636eda",
   "metadata": {},
   "outputs": [],
   "source": [
    "import numpy as np\n",
    "import pandas as pd\n",
    "import matplotlib.pyplot as plt\n",
    "import seaborn as sns\n",
    "\n",
    "%matplotlib inline \n",
    "\n",
    "from sklearn.neighbors import KNeighborsClassifier\n",
    "from sklearn.neural_network import MLPClassifier\n",
    "\n",
    "from sklearn.model_selection import train_test_split, cross_val_score\n",
    "from sklearn.model_selection import RandomizedSearchCV, GridSearchCV\n",
    "from sklearn.metrics import confusion_matrix, classification_report\n",
    "from sklearn.metrics import accuracy_score, precision_score, recall_score, f1_score\n",
    "\n",
    "import time"
   ]
  },
  {
   "cell_type": "code",
   "execution_count": 2,
   "id": "98ea0fde",
   "metadata": {},
   "outputs": [
    {
     "data": {
      "text/html": [
       "<div>\n",
       "<style scoped>\n",
       "    .dataframe tbody tr th:only-of-type {\n",
       "        vertical-align: middle;\n",
       "    }\n",
       "\n",
       "    .dataframe tbody tr th {\n",
       "        vertical-align: top;\n",
       "    }\n",
       "\n",
       "    .dataframe thead th {\n",
       "        text-align: right;\n",
       "    }\n",
       "</style>\n",
       "<table border=\"1\" class=\"dataframe\">\n",
       "  <thead>\n",
       "    <tr style=\"text-align: right;\">\n",
       "      <th></th>\n",
       "      <th>letter</th>\n",
       "      <th>xbox</th>\n",
       "      <th>ybox</th>\n",
       "      <th>width</th>\n",
       "      <th>height</th>\n",
       "      <th>onpix</th>\n",
       "      <th>xbar</th>\n",
       "      <th>ybar</th>\n",
       "      <th>x2bar</th>\n",
       "      <th>y2bar</th>\n",
       "      <th>xybar</th>\n",
       "      <th>x2ybar</th>\n",
       "      <th>xy2bar</th>\n",
       "      <th>xedge</th>\n",
       "      <th>xedgey</th>\n",
       "      <th>yedge</th>\n",
       "      <th>yedgex</th>\n",
       "    </tr>\n",
       "  </thead>\n",
       "  <tbody>\n",
       "    <tr>\n",
       "      <th>0</th>\n",
       "      <td>T</td>\n",
       "      <td>2</td>\n",
       "      <td>8</td>\n",
       "      <td>3</td>\n",
       "      <td>5</td>\n",
       "      <td>1</td>\n",
       "      <td>8</td>\n",
       "      <td>13</td>\n",
       "      <td>0</td>\n",
       "      <td>6</td>\n",
       "      <td>6</td>\n",
       "      <td>10</td>\n",
       "      <td>8</td>\n",
       "      <td>0</td>\n",
       "      <td>8</td>\n",
       "      <td>0</td>\n",
       "      <td>8</td>\n",
       "    </tr>\n",
       "    <tr>\n",
       "      <th>1</th>\n",
       "      <td>I</td>\n",
       "      <td>5</td>\n",
       "      <td>12</td>\n",
       "      <td>3</td>\n",
       "      <td>7</td>\n",
       "      <td>2</td>\n",
       "      <td>10</td>\n",
       "      <td>5</td>\n",
       "      <td>5</td>\n",
       "      <td>4</td>\n",
       "      <td>13</td>\n",
       "      <td>3</td>\n",
       "      <td>9</td>\n",
       "      <td>2</td>\n",
       "      <td>8</td>\n",
       "      <td>4</td>\n",
       "      <td>10</td>\n",
       "    </tr>\n",
       "  </tbody>\n",
       "</table>\n",
       "</div>"
      ],
      "text/plain": [
       "  letter  xbox   ybox   width   height  onpix   xbar   ybar   x2bar  y2bar   \\\n",
       "0      T      2      8       3       5       1      8     13      0       6   \n",
       "1      I      5     12       3       7       2     10      5      5       4   \n",
       "\n",
       "   xybar   x2ybar  xy2bar  xedge   xedgey  yedge   yedgex  \n",
       "0       6      10       8       0       8       0       8  \n",
       "1      13       3       9       2       8       4      10  "
      ]
     },
     "execution_count": 2,
     "metadata": {},
     "output_type": "execute_result"
    }
   ],
   "source": [
    "df = pd.read_csv(\"letter-recognition.csv\")\n",
    "df[0:2]"
   ]
  },
  {
   "cell_type": "code",
   "execution_count": 7,
   "id": "af1ded01",
   "metadata": {},
   "outputs": [
    {
     "data": {
      "text/plain": [
       "(20000, 17)"
      ]
     },
     "execution_count": 7,
     "metadata": {},
     "output_type": "execute_result"
    }
   ],
   "source": [
    "df.shape"
   ]
  },
  {
   "cell_type": "code",
   "execution_count": null,
   "id": "688283cd",
   "metadata": {},
   "outputs": [],
   "source": [
    "df.letter.value_counts().sort_index().plot(kind=\"bar\");"
   ]
  },
  {
   "cell_type": "code",
   "execution_count": null,
   "id": "10a7aa12",
   "metadata": {},
   "outputs": [],
   "source": [
    "letter = df.letter\n",
    "\n",
    "df = df.drop(\"letter\", axis=1)\n",
    "\n",
    "df=(df-df.min())/(df.max()-df.min())\n",
    "\n",
    "df[\"letter\"] = letter"
   ]
  },
  {
   "cell_type": "code",
   "execution_count": null,
   "id": "1db939b3",
   "metadata": {},
   "outputs": [],
   "source": [
    "df.describe()"
   ]
  },
  {
   "cell_type": "code",
   "execution_count": null,
   "id": "d55ae186",
   "metadata": {},
   "outputs": [],
   "source": [
    "plt.figure(figsize=(16, 8))\n",
    "sns.barplot(x=df[\"letter\"], y=df[\"x2ybar\"], \n",
    "            data=df,\n",
    "            order=list(np.sort(df['letter'].unique())));"
   ]
  },
  {
   "cell_type": "code",
   "execution_count": null,
   "id": "287d13e9",
   "metadata": {},
   "outputs": [],
   "source": [
    "plt.figure(figsize=(16, 8))\n",
    "sns.barplot(x=df[\"letter\"], y=df[\"xy2bar\"], \n",
    "            data=df,\n",
    "            order=list(np.sort(df['letter'].unique())));"
   ]
  },
  {
   "cell_type": "code",
   "execution_count": null,
   "id": "b6b4a616",
   "metadata": {},
   "outputs": [],
   "source": [
    "np.random.seed(100)\n",
    "\n",
    "X = df.drop(\"letter\", axis=1)\n",
    "y = df[\"letter\"]\n",
    "X_train, X_test, y_train, y_test = train_test_split(X, y, test_size = 0.2)"
   ]
  },
  {
   "cell_type": "code",
   "execution_count": null,
   "id": "8a7233c4",
   "metadata": {},
   "outputs": [],
   "source": [
    "models = {\"KNN\": KNeighborsClassifier(n_neighbors=5), # 5 sąsiadów to wartość domyślna, wpisane dla jasności dalszych działań\n",
    "          \"Sieć neuronowa\": MLPClassifier()}\n",
    "\n",
    "def fit_and_score(models, X_train, X_test, y_train, y_test):\n",
    "    np.random.seed(100)\n",
    "    model_scores = {}\n",
    "    \n",
    "    for name, model in models.items():\n",
    "        \n",
    "        model.fit(X_train, y_train)\n",
    "        \n",
    "        model_scores[name] = model.score(X_test, y_test)\n",
    "    return model_scores"
   ]
  },
  {
   "cell_type": "code",
   "execution_count": null,
   "id": "62e6ff35",
   "metadata": {},
   "outputs": [],
   "source": [
    "model_scores = fit_and_score(models, X_train, X_test, y_train, y_test)\n",
    "model_scores"
   ]
  },
  {
   "cell_type": "code",
   "execution_count": null,
   "id": "bb2eedea",
   "metadata": {},
   "outputs": [],
   "source": [
    "model_compare = pd.DataFrame(model_scores, index=['accuracy'])\n",
    "model_compare.T.plot.bar();"
   ]
  },
  {
   "cell_type": "code",
   "execution_count": null,
   "id": "cee838b0",
   "metadata": {},
   "outputs": [],
   "source": [
    "test_scores = []\n",
    "\n",
    "neighbors = range(2, 21) # 1 to 20\n",
    "\n",
    "knn = KNeighborsClassifier()\n",
    "\n",
    "for i in neighbors:\n",
    "    knn.set_params(n_neighbors = i)\n",
    "    \n",
    "    knn.fit(X_train, y_train)\n",
    "    \n",
    "    test_scores.append(knn.score(X_test, y_test))"
   ]
  },
  {
   "cell_type": "code",
   "execution_count": null,
   "id": "d02762c8",
   "metadata": {},
   "outputs": [],
   "source": [
    "plt.plot(neighbors, test_scores)\n",
    "plt.xticks(np.arange(1, 21, 1))\n",
    "plt.xlabel(\"Liczba sąsiadów\")\n",
    "plt.ylabel(\"Wynik Modelu\")\n",
    "\n",
    "print(f\"Maksymalny wynik KNN: {max(test_scores)*100:.2f}%\")"
   ]
  },
  {
   "cell_type": "code",
   "execution_count": null,
   "id": "7592144e",
   "metadata": {},
   "outputs": [],
   "source": [
    "np.random.seed(100)\n",
    "# różne parametry KNeighborsClassifier\n",
    "knn_grid = {\"n_neighbors\": [3],\n",
    "            \"weights\": [\"uniform\", \"distance\"], \n",
    "            \"algorithm\": [\"ball_tree\", \"kd_tree\", \"brute\"],\n",
    "            \"leaf_size\": [15, 20, 30, 50, 100],\n",
    "            \"n_jobs\": [-1]} # Parametr ustalający użycie procesorów, \"-1\" oznacza użycie wszystkich procesorów\n",
    "\n",
    "gs_knn = GridSearchCV(KNeighborsClassifier(),\n",
    "                             param_grid=knn_grid,\n",
    "                             verbose=True)\n",
    "# Trenowanie z każdą kombinacją paramterów\n",
    "gs_knn.fit(X_train, y_train);"
   ]
  },
  {
   "cell_type": "code",
   "execution_count": null,
   "id": "60ff2a1d",
   "metadata": {},
   "outputs": [],
   "source": [
    "gs_knn.best_params_"
   ]
  },
  {
   "cell_type": "code",
   "execution_count": null,
   "id": "162c7328",
   "metadata": {},
   "outputs": [],
   "source": [
    "gs_knn.score(X_test, y_test)"
   ]
  },
  {
   "cell_type": "code",
   "execution_count": null,
   "id": "6084c236",
   "metadata": {},
   "outputs": [],
   "source": [
    "np.random.seed(100)\n",
    "# różne paramtetry MLPClassifier\n",
    "net_grid = {\"solver\": [\"adam\"],\n",
    "                \"learning_rate\": [\"adaptive\"],\n",
    "                \"max_iter\": [5000, 10000]}\n",
    "\n",
    "gs_net = GridSearchCV(MLPClassifier(),\n",
    "                          param_grid=net_grid,\n",
    "                          verbose=True)\n",
    "\n",
    "# Trenowanie z każdą kombinacją paramterów\n",
    "gs_net.fit(X_train, y_train);"
   ]
  },
  {
   "cell_type": "code",
   "execution_count": null,
   "id": "564c9fa9",
   "metadata": {},
   "outputs": [],
   "source": [
    "gs_net.best_params_"
   ]
  },
  {
   "cell_type": "code",
   "execution_count": null,
   "id": "f36c8550",
   "metadata": {},
   "outputs": [],
   "source": [
    "gs_net.score(X_test, y_test)"
   ]
  },
  {
   "cell_type": "code",
   "execution_count": null,
   "id": "8067d541",
   "metadata": {},
   "outputs": [],
   "source": [
    "y_preds = gs_knn.predict(X_test)\n",
    "print(classification_report(y_test, y_preds))"
   ]
  },
  {
   "cell_type": "code",
   "execution_count": null,
   "id": "4086e69a",
   "metadata": {},
   "outputs": [],
   "source": [
    "fig = plt.figure()\n",
    "ax = fig.add_axes([0,0,1,1])\n",
    "metrics = ['Accuracy', 'Precission', 'Recall', 'F1Score']\n",
    "values = [accuracy_score(y_test, y_preds),\n",
    "          precision_score(y_test, y_preds, average=\"weighted\"),\n",
    "          recall_score(y_test, y_preds, average=\"weighted\"),\n",
    "          f1_score(y_test, y_preds, average=\"weighted\")]\n",
    "ax.bar(metrics, values)\n",
    "plt.ylim(0.95875, 0.96)\n",
    "plt.show()"
   ]
  }
 ],
 "metadata": {
  "kernelspec": {
   "display_name": "Python 3 (ipykernel)",
   "language": "python",
   "name": "python3"
  },
  "language_info": {
   "codemirror_mode": {
    "name": "ipython",
    "version": 3
   },
   "file_extension": ".py",
   "mimetype": "text/x-python",
   "name": "python",
   "nbconvert_exporter": "python",
   "pygments_lexer": "ipython3",
   "version": "3.10.8"
  }
 },
 "nbformat": 4,
 "nbformat_minor": 5
}
